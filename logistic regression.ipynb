{
 "cells": [
  {
   "cell_type": "code",
   "execution_count": 1,
   "id": "86c99d83-bede-4281-967f-8fc28346539c",
   "metadata": {},
   "outputs": [],
   "source": [
    "import numpy as np\n",
    "import matplotlib.pyplot as plt\n",
    "import pandas as pd"
   ]
  },
  {
   "cell_type": "code",
   "execution_count": 2,
   "id": "80d72116-4fee-4188-9342-820e8b746e22",
   "metadata": {},
   "outputs": [],
   "source": [
    "x_train=pd.read_csv(r\"C:\\Users\\Pavithran\\Downloads\\Titanic\\x_train.csv\")\n",
    "\n",
    "y_train=pd.read_excel(r\"C:\\Users\\Pavithran\\Downloads\\Titanic\\y_train.xlsx\")\n"
   ]
  },
  {
   "cell_type": "code",
   "execution_count": 3,
   "id": "3d7fcd55-e71f-4c83-bc83-ac88f909fa88",
   "metadata": {},
   "outputs": [],
   "source": [
    "x_train=x_train.values\n",
    "y_train=y_train.values"
   ]
  },
  {
   "cell_type": "code",
   "execution_count": 4,
   "id": "46978582-ff85-4a47-99df-e628547218fb",
   "metadata": {},
   "outputs": [
    {
     "name": "stdout",
     "output_type": "stream",
     "text": [
      "[[1.         1.         1.         ... 1.         1.         1.        ]\n",
      " [0.33333333 1.         0.         ... 0.33333333 0.         0.        ]\n",
      " [0.         0.         0.         ... 0.66666667 0.         0.        ]\n",
      " [0.         0.         0.         ... 0.         0.         0.33333333]\n",
      " [0.33333333 0.         0.33333333 ... 0.33333333 0.         0.        ]]\n",
      "[[0 1 0 0 0 0 0 0 0 1 0 0 0 0 0 0 0 0 0 1 0 0 0 0 0 0 1 0 0 0 1 1 0 0 1 0\n",
      "  1 0 0 1 0 0 1 1 0 0 0 0 1 0 0 0 1 0 1 0 0 1 0 0 1 0 0 0 1 1 0 0 0 0 0 0\n",
      "  0 1 0 0 0 0 0 0 0 0 0 0 0 0 0 0 0 0 0 0 0 0 0 0 1 1 0 0 0 0 0 0 0 0 0 0\n",
      "  0 0 0 1 0 0 1 0 0 0 1 0 0 0 1 0 0 1 0 0 1 0 1 0 0 0 0 1 0 0 0 1 1 0 0 0\n",
      "  0 0 0 0 0 0 0 0 0 0 0 1 0 0 0 0 0 0 0 0 0 0 0 0 0 0 0 0 0 0 1 0 0 1 0 0\n",
      "  0 1 0 0 0 0 0 0 0 0 0 0 0 0 1 1 0 0 0 0 0 0 0 1 0 0 0 1 0 1 0 0 0 0 0 1\n",
      "  0 0 1 0 0 0 0 0 0 0 0 0 0 0 0 0 0 0 0 0 0 0 0 0 1 0 0 0 1 0 0 0 0 0 0 0\n",
      "  0 0 0 1 1 0 1 0 0 0 0 0 0 0 0 0 0 0 0 0 0 1 0 0 0 0 0 0 0 0 0 0 0 1 0 0\n",
      "  0 0 0 1 1 0 0 1 1 0 0 1 0 0 0 0 0 0 1 1 1 1 1 1 0 0 0 0 0 0 0 1 0 0 0 0\n",
      "  0 1 0 0 0 1 0 0 0 0 0 0 0 1 0 0 0 0 0 0 0 0 0 0 0 0 0 0 1 0 1 0 0 0 0 0\n",
      "  0 1 1 0 0 0 1 1 0 1 1 0 0 1 0 1 0 1 1 0 1 1 0 0 0 0 0 0 0 1 0 0 0 1 0 0\n",
      "  0 0 0 0 0 0 0 0 0 0 0 0 0 0 0 0 0 0 0 0 0 0 0 0 1 0 0 0 0 0 0 0 0 0 0 0\n",
      "  0 0 0 0 0 0 0 0 0 0 0 0 0 0 0 0 1 0 0 0 1 1 0 1 0 0 0 0 0 0 0 0 0 0 0 0\n",
      "  0 1 0 0 0 1 0 0 0 0 0 0 0 0 0 0 1 0 0 1 0 0 0 0 0 1 0 1 1 0 0 0 0 0 0 0\n",
      "  0 1 0 0 0 0 0 0 0 1 0 0 0 0 0 0 0 0 1 1 1 0 0 0 0 0 0 1 1 1 0 0 0 1 0 1\n",
      "  0 0 0 0 1 0 0 1 0 0 1 0 0 1 0 0 1 1 0 0 0 0 0 0 0 0 0 0 1 0 0 0 0 0 0 0\n",
      "  0 0 1 0 0 1 0 1 1 0 0 1 0 0 0 1 0 0 0 0 0 0 1 1 0 0 0 0 1 0 0 0 1 0 0 0\n",
      "  0 0 0 0 0 0 0 0 1 0 1 0 0 0 0 0 0 0 0 0 1 0 0 0 0 0 0 0 0 1 0 0 1 1 0 1\n",
      "  0 0 0 0 0 0 0 0 0 0 0 1 0 1 0 0 0 0 0 0 0 0 0 0 0 0 0 0 0 0 0 1 0 1 0 0\n",
      "  0 1 0 0 0 0 0 1 0 1 0 0 0 0 1 0 1 0 1 0 0 0 0 0 0 1 1 0 0 0 0 0 1 0 0 0\n",
      "  0 0 0 0 0 0 0 0 0 0 0 1 0 0 0 0 0 1 0 0 0 0 1 0 0 0 0 0 0 0 0 0 0 0 0 0\n",
      "  0 0 0 0 0 0 1 0 0 0 1 0 0 0 0 0 0 1 0 0 0 0 0 0 1 0 0 0 0 0 0 0 0 1 0 0\n",
      "  0 1 0 0 0 0 1 0 0 0 0 1 0 0 0 0 0 0 0 0 0 0 0 0 0 1 0 0 0 0 0 0 0 0 0 1\n",
      "  0 0 1 0 1 0 0 1 0 0 0 1 0 0 1 1 0 0 0 1 0 1 0 0 1 0 0 0 0 0 1 1 0 0 0 0\n",
      "  0 0 1 0 0 0 0 0 0 0 1 1 0 0 0 1 0 0 0 0 0 0 0 0 0 1 0]]\n"
     ]
    }
   ],
   "source": [
    "x_train=x_train.T\n",
    "y_train=y_train.reshape(1,x_train.shape[1])\n",
    "X_min = x_train.min(axis=0)\n",
    "X_max = x_train.max(axis=0)\n",
    "x_train = (x_train - X_min) / (X_max - X_min)\n",
    "print(x_train)\n",
    "print(y_train)"
   ]
  },
  {
   "cell_type": "code",
   "execution_count": 5,
   "id": "5b5edc7e-9ab7-47cf-980e-1343488e7b5d",
   "metadata": {},
   "outputs": [
    {
     "name": "stdout",
     "output_type": "stream",
     "text": [
      "x_train shape: (5, 891)\n",
      "y_train shape: (1, 891)\n"
     ]
    }
   ],
   "source": [
    "print(\"x_train shape:\",x_train.shape)\n",
    "print(\"y_train shape:\",y_train.shape)"
   ]
  },
  {
   "cell_type": "code",
   "execution_count": 6,
   "id": "fef6624c-4a4e-4458-9c39-27f0395f9b58",
   "metadata": {},
   "outputs": [],
   "source": [
    "def sigmoid(z):\n",
    "    return 1/(1+np.exp(-z))"
   ]
  },
  {
   "cell_type": "code",
   "execution_count": 7,
   "id": "7ccc8ae5-3bf3-4ebb-8270-4422b5511ea7",
   "metadata": {},
   "outputs": [],
   "source": [
    "def model(x,y,alpha,iter):\n",
    "    m=x.shape[1]\n",
    "    n=x.shape[0]\n",
    "\n",
    "    w=np.zeros((n,1))\n",
    "    b=0\n",
    "    cost_list=[]\n",
    "    for i in range(iter):\n",
    "        z=np.dot(w.T,x)+b\n",
    "        y_prediction=sigmoid(z)\n",
    "        cost=(-1/m)*np.sum((y*np.log(y_prediction))+ ((1-y)*np.log(1-y_prediction)))\n",
    "        cost_list.append(cost)\n",
    "        if (i%(iter/10)==0 ):\n",
    "            \n",
    "            print(\"cost at \",i,\" is:\",cost)\n",
    "\n",
    "        dw = (1/m) * np.dot(x, (y_prediction - y).T)\n",
    "        db=(1/m)*np.sum(y_prediction-y)\n",
    "        w=w-alpha*dw\n",
    "        b=b-alpha*db\n",
    "    return w,b,cost_list"
   ]
  },
  {
   "cell_type": "code",
   "execution_count": 8,
   "id": "db5dd2e1-312f-45a6-8ec8-93ba69719fcb",
   "metadata": {},
   "outputs": [
    {
     "name": "stdout",
     "output_type": "stream",
     "text": [
      "cost at  0  is: 0.6931471805599454\n",
      "cost at  10000  is: 0.3455964420110619\n",
      "cost at  20000  is: 0.28423442670241866\n",
      "cost at  30000  is: 0.24507578705991442\n",
      "cost at  40000  is: 0.21681514151050243\n",
      "cost at  50000  is: 0.1950014372990741\n",
      "cost at  60000  is: 0.17743108931121593\n",
      "cost at  70000  is: 0.16285837785005453\n",
      "cost at  80000  is: 0.15051339747773915\n",
      "cost at  90000  is: 0.13988775190917946\n",
      "W: [[  1.36297094]\n",
      " [  0.22671122]\n",
      " [  0.66438669]\n",
      " [ -4.71846418]\n",
      " [-10.63149902]]  B: -0.6623901416233714\n"
     ]
    }
   ],
   "source": [
    "w,b,cost_lis=model(x_train,y_train,alpha=0.005,iter=100000)\n",
    "print(\"W:\",w,\" B:\",b)"
   ]
  },
  {
   "cell_type": "code",
   "execution_count": 9,
   "id": "acbac41f-f548-4f32-b243-72dfdb4726f3",
   "metadata": {},
   "outputs": [
    {
     "data": {
      "image/png": "[encoded data removed]",
      "text/plain": [
       "<Figure size 640x480 with 1 Axes>"
      ]
     },
     "metadata": {},
     "output_type": "display_data"
    }
   ],
   "source": [
    "\n",
    "plt.plot(np.arange(100000),cost_lis)\n",
    "plt.title(\"Cost vs Iterations\")\n",
    "plt.show()"
   ]
  },
  {
   "cell_type": "code",
   "execution_count": 12,
   "id": "a75710ff-9a30-4566-93c1-c9ce2c2ef0dc",
   "metadata": {},
   "outputs": [],
   "source": [
    "def accuracy(x,y,w,b):\n",
    "    z=np.dot(w.T,x)+b\n",
    "    y_prediction=sigmoid(z)\n",
    "\n",
    "    y_prediction=y_prediction>0.5\n",
    "    y_prediction=np.array(y_prediction,dtype='int64')\n",
    "    acc=(1-np.sum(np.absolute(y_prediction-y))/y.shape[0])*100\n",
    "    print(\"The accuracy is :\",acc)"
   ]
  },
  {
   "cell_type": "code",
   "execution_count": 11,
   "id": "5c558210-4026-4c16-abbc-4ac49514979d",
   "metadata": {},
   "outputs": [
    {
     "name": "stdout",
     "output_type": "stream",
     "text": [
      "The accuracy is : 100.0\n"
     ]
    }
   ],
   "source": [
    "accuracy(x_train,y_train,w,b)"
   ]
  },
  {
   "cell_type": "code",
   "execution_count": null,
   "id": "0ab894a7-7f7b-46b7-a5b0-3450ed734b84",
   "metadata": {},
   "outputs": [],
   "source": []
  }
 ],
 "metadata": {
  "kernelspec": {
   "display_name": "Python 3 (ipykernel)",
   "language": "python",
   "name": "python3"
  },
  "language_info": {
   "codemirror_mode": {
    "name": "ipython",
    "version": 3
   },
   "file_extension": ".py",
   "mimetype": "text/x-python",
   "name": "python",
   "nbconvert_exporter": "python",
   "pygments_lexer": "ipython3",
   "version": "3.12.0"
  }
 },
 "nbformat": 4,
 "nbformat_minor": 5
}
